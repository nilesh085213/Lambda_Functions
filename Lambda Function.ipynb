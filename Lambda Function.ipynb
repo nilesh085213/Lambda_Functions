{
 "cells": [
  {
   "cell_type": "code",
   "execution_count": 1,
   "id": "da95deaa-0e7f-461b-a418-eb7f427d0dd0",
   "metadata": {},
   "outputs": [],
   "source": [
    "n = 3\n",
    "p = 2"
   ]
  },
  {
   "cell_type": "code",
   "execution_count": 3,
   "id": "c9b1bfa2-a4d8-4b35-a326-60016cc832bb",
   "metadata": {},
   "outputs": [],
   "source": [
    "def test(n, p):\n",
    "    return n**p"
   ]
  },
  {
   "cell_type": "code",
   "execution_count": 4,
   "id": "9019d022-5f21-4a45-a499-668d001cf3ca",
   "metadata": {},
   "outputs": [
    {
     "data": {
      "text/plain": [
       "9"
      ]
     },
     "execution_count": 4,
     "metadata": {},
     "output_type": "execute_result"
    }
   ],
   "source": [
    "test(3,2)"
   ]
  },
  {
   "cell_type": "code",
   "execution_count": 5,
   "id": "bddb226c-d811-48d9-8aec-e949f0577cd9",
   "metadata": {},
   "outputs": [
    {
     "data": {
      "text/plain": [
       "<function __main__.<lambda>(n, p)>"
      ]
     },
     "execution_count": 5,
     "metadata": {},
     "output_type": "execute_result"
    }
   ],
   "source": [
    "lambda n, p: n**p"
   ]
  },
  {
   "cell_type": "code",
   "execution_count": 6,
   "id": "93e9fcb1-add6-418d-80c3-aacd41a5ed75",
   "metadata": {},
   "outputs": [],
   "source": [
    "a = lambda n, p: n**p"
   ]
  },
  {
   "cell_type": "code",
   "execution_count": 8,
   "id": "7d13801a-43a4-4d86-baff-35c349f968de",
   "metadata": {},
   "outputs": [
    {
     "data": {
      "text/plain": [
       "9"
      ]
     },
     "execution_count": 8,
     "metadata": {},
     "output_type": "execute_result"
    }
   ],
   "source": [
    "a(3,2)"
   ]
  },
  {
   "cell_type": "code",
   "execution_count": 9,
   "id": "db4d4093-8ade-44a5-be82-3f171a0a11e8",
   "metadata": {},
   "outputs": [],
   "source": [
    "add = lambda x, y : x+y"
   ]
  },
  {
   "cell_type": "code",
   "execution_count": 10,
   "id": "839f7bb8-4e50-404b-a513-2e90f139462e",
   "metadata": {},
   "outputs": [
    {
     "data": {
      "text/plain": [
       "5"
      ]
     },
     "execution_count": 10,
     "metadata": {},
     "output_type": "execute_result"
    }
   ],
   "source": [
    "add(3,2)"
   ]
  },
  {
   "cell_type": "code",
   "execution_count": 11,
   "id": "d18d0383-a201-4df2-a200-027379330634",
   "metadata": {},
   "outputs": [],
   "source": [
    "c_to_f = lambda c : (9/5)*c+32"
   ]
  },
  {
   "cell_type": "code",
   "execution_count": 12,
   "id": "0444442d-15e6-4046-be15-5951b6ad02a9",
   "metadata": {},
   "outputs": [
    {
     "data": {
      "text/plain": [
       "113.0"
      ]
     },
     "execution_count": 12,
     "metadata": {},
     "output_type": "execute_result"
    }
   ],
   "source": [
    "c_to_f(45)"
   ]
  },
  {
   "cell_type": "code",
   "execution_count": 13,
   "id": "3991c98e-37d4-46d1-9af8-10cc15ab4b3a",
   "metadata": {},
   "outputs": [],
   "source": [
    "finding_max = lambda x, y : x if x>y else y"
   ]
  },
  {
   "cell_type": "code",
   "execution_count": 14,
   "id": "06303d91-279d-4e4d-831b-dab7938e6cfb",
   "metadata": {},
   "outputs": [
    {
     "data": {
      "text/plain": [
       "43"
      ]
     },
     "execution_count": 14,
     "metadata": {},
     "output_type": "execute_result"
    }
   ],
   "source": [
    "finding_max(43,23)"
   ]
  },
  {
   "cell_type": "code",
   "execution_count": null,
   "id": "89d4ac2a-b982-422b-ab98-567495d72b71",
   "metadata": {},
   "outputs": [],
   "source": []
  }
 ],
 "metadata": {
  "kernelspec": {
   "display_name": "Python 3 (ipykernel)",
   "language": "python",
   "name": "python3"
  },
  "language_info": {
   "codemirror_mode": {
    "name": "ipython",
    "version": 3
   },
   "file_extension": ".py",
   "mimetype": "text/x-python",
   "name": "python",
   "nbconvert_exporter": "python",
   "pygments_lexer": "ipython3",
   "version": "3.10.8"
  }
 },
 "nbformat": 4,
 "nbformat_minor": 5
}
